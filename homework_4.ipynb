{
 "cells": [
  {
   "cell_type": "code",
   "execution_count": 6,
   "id": "f67b8ea0-be2f-4de8-a4b3-0999467f2a68",
   "metadata": {},
   "outputs": [],
   "source": [
    "month_name = ['쌍', '쇠', '복', '돌', '팽', '육', '쌍', '개', '칠', '갑', '삼', '방']"
   ]
  },
  {
   "cell_type": "code",
   "execution_count": 7,
   "id": "c799cca9-c69c-4906-a5bd-a5d76dc83b2d",
   "metadata": {},
   "outputs": [],
   "source": [
    "day_name = ['봉', '구', '욕', '포', '똥', '삼', '식', '석', '놈', '님', '년', '돌', '단', '득', '방', '질', '장', '걸', '래', '룡', '동', '순', '자', '박', '창', '언', '것', '포', '만', '단', '국']"
   ]
  },
  {
   "cell_type": "code",
   "execution_count": 9,
   "id": "333faa11-6526-47e7-93fa-b6b1c97d2da8",
   "metadata": {},
   "outputs": [],
   "source": [
    "def get_my_chosun_name(family_name, month, day):\n",
    "    return family_name+month_name[month-1]+day_name[day-1]\n",
    "    "
   ]
  },
  {
   "cell_type": "code",
   "execution_count": 10,
   "id": "84973033-5470-42af-ae60-32e22714b4a2",
   "metadata": {},
   "outputs": [
    {
     "name": "stdout",
     "output_type": "stream",
     "text": [
      "당신의 조선시대 이름은 이방단 입니다\n"
     ]
    }
   ],
   "source": [
    "print(\"당신의 조선시대 이름은 \"+get_my_chosun_name('이', 12, 30)+\" 입니다\")"
   ]
  }
 ],
 "metadata": {
  "kernelspec": {
   "display_name": "Python 3 (ipykernel)",
   "language": "python",
   "name": "python3"
  },
  "language_info": {
   "codemirror_mode": {
    "name": "ipython",
    "version": 3
   },
   "file_extension": ".py",
   "mimetype": "text/x-python",
   "name": "python",
   "nbconvert_exporter": "python",
   "pygments_lexer": "ipython3",
   "version": "3.10.9"
  }
 },
 "nbformat": 4,
 "nbformat_minor": 5
}
